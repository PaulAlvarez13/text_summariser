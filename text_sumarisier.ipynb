{
  "nbformat": 4,
  "nbformat_minor": 0,
  "metadata": {
    "colab": {
      "name": "text_sumarisier.ipynb",
      "provenance": [],
      "include_colab_link": true
    },
    "kernelspec": {
      "name": "python3",
      "display_name": "Python 3"
    },
    "language_info": {
      "name": "python"
    }
  },
  "cells": [
    {
      "cell_type": "markdown",
      "metadata": {
        "id": "view-in-github",
        "colab_type": "text"
      },
      "source": [
        "<a href=\"https://colab.research.google.com/github/PaulAlvarez13/text_summariser/blob/main/text_sumarisier.ipynb\" target=\"_parent\"><img src=\"https://colab.research.google.com/assets/colab-badge.svg\" alt=\"Open In Colab\"/></a>"
      ]
    },
    {
      "cell_type": "markdown",
      "source": [
        "# Text Summarisation\n",
        "\n",
        "Recall an earlier notebook where you were given a task to summarise online content and produce a report. We converted an audio file to text. Similarly, we could write a notebook to convert a PDF or Word document to text or Web pages to text. The strategy is to convert everything to text, summarise the text, and use the summary in the final report.\n",
        "\n",
        "# The Challenge\n",
        "\n",
        "Create a project to summarise text and publish the project in Binder. \n",
        "\n",
        "You can choose how to input the text.  Some ideas include pasting it into a string, reading from a file, extract from a PDF or a webpage. \n",
        " \n",
        "It is okay to follow a online tutoirial or youtube video but make sure you have some understanding of what you are doing. You can ask you tutor for help if needed.  They will either help search, or perhaps explain the code in a tutorial.\n",
        "\n",
        "\n",
        "# Task 0 - Initialise a NEW repository\n",
        "\n",
        "We are going to deploy this notebook using Binder.\n",
        "\n",
        "* Initialise a new PUBLIC GitHub repository, say called, text_summariser.\n",
        "* Import this notebook into the new repository\n",
        "\n"
      ],
      "metadata": {
        "id": "SmVEXRTA1wZn"
      }
    },
    {
      "cell_type": "code",
      "source": [
        "#Method from https://pdf.wondershare.com/pdf-knowledge/pdf-to-text-python.html\n",
        "!pip install PyPDF2"
      ],
      "metadata": {
        "id": "48RNuGBQIHQ0",
        "colab": {
          "base_uri": "https://localhost:8080/"
        },
        "outputId": "7e2ee9df-301c-4a65-cc49-0980482c90ea"
      },
      "execution_count": 2,
      "outputs": [
        {
          "output_type": "stream",
          "name": "stdout",
          "text": [
            "Collecting PyPDF2\n",
            "  Downloading PyPDF2-1.27.12-py3-none-any.whl (80 kB)\n",
            "\u001b[?25l\r\u001b[K     |████                            | 10 kB 23.6 MB/s eta 0:00:01\r\u001b[K     |████████▏                       | 20 kB 28.5 MB/s eta 0:00:01\r\u001b[K     |████████████▎                   | 30 kB 12.6 MB/s eta 0:00:01\r\u001b[K     |████████████████▍               | 40 kB 9.7 MB/s eta 0:00:01\r\u001b[K     |████████████████████▌           | 51 kB 6.7 MB/s eta 0:00:01\r\u001b[K     |████████████████████████▋       | 61 kB 7.9 MB/s eta 0:00:01\r\u001b[K     |████████████████████████████▋   | 71 kB 8.4 MB/s eta 0:00:01\r\u001b[K     |████████████████████████████████| 80 kB 4.8 MB/s \n",
            "\u001b[?25hInstalling collected packages: PyPDF2\n",
            "Successfully installed PyPDF2-1.27.12\n"
          ]
        }
      ]
    },
    {
      "cell_type": "code",
      "source": [
        "# importing required modules\n",
        "import PyPDF2\n",
        "\n",
        "# creating a pdf file object\n",
        "pdfFileObj = open('example.pdf', 'rb')\n",
        "\n",
        "# creating a pdf reader object\n",
        "pdfReader = PyPDF2.PdfFileReader(pdfFileObj)\n",
        "\n",
        "# printing number of pages in pdf file\n",
        "print(pdfReader.numPages)\n",
        "\n",
        "# creating a page object\n",
        "pageObj = pdfReader.getPage(0)\n",
        "\n",
        "# extracting text from page\n",
        "print(pageObj.extractText())\n",
        "\n",
        "# closing the pdf file object\n",
        "pdfFileObj.close()"
      ],
      "metadata": {
        "id": "cZlZZ4A_r2IH"
      },
      "execution_count": null,
      "outputs": []
    },
    {
      "cell_type": "code",
      "source": [
        "# importing required modules \n",
        "import PyPDF2 \n",
        "    \n",
        "# creating a pdf file object \n",
        "pdfFileObj = open('sample.pdf', 'rb') \n",
        "    \n",
        "# creating a pdf reader object \n",
        "pdfReader = PyPDF2.PdfFileReader(pdfFileObj) \n",
        "    \n",
        "# printing number of pages in pdf file \n",
        "print(pdfReader.numPages) \n",
        "    \n",
        "# creating a page object \n",
        "pageObj = pdfReader.getPage(0) \n",
        "    \n",
        "# extracting text from page \n",
        "print(pageObj.extractText()) \n",
        "    \n",
        "# closing the pdf file object \n",
        "pdfFileObj.close() "
      ],
      "metadata": {
        "id": "U440FpBqsqtf",
        "outputId": "dd1fbf58-f181-4d6c-cea9-170b482d7227",
        "colab": {
          "base_uri": "https://localhost:8080/"
        }
      },
      "execution_count": 6,
      "outputs": [
        {
          "output_type": "stream",
          "name": "stdout",
          "text": [
            "2\n",
            " A Simple PDF File \n",
            " This is a small demonstration .pdf file - \n",
            " just for use in the Virtual Mechanics tutorials. More text. And more \n",
            " text. And more text. And more text. And more text. \n",
            " And more text. And more text. And more text. And more text. And more \n",
            " text. And more text. Boring, zzzzz. And more text. And more text. And \n",
            " more text. And more text. And more text. And more text. And more text. \n",
            " And more text. And more text. \n",
            " And more text. And more text. And more text. And more text. And more \n",
            " text. And more text. And more text. Even more. Continued on page 2 ...\n",
            "\n"
          ]
        }
      ]
    }
  ]
}